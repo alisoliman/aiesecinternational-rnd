{
 "cells": [
  {
   "cell_type": "markdown",
   "metadata": {},
   "source": [
    "# Projection Accuracy Analysis"
   ]
  },
  {
   "cell_type": "markdown",
   "metadata": {},
   "source": [
    "Import Libraries & Data"
   ]
  },
  {
   "cell_type": "code",
   "execution_count": 3,
   "metadata": {},
   "outputs": [],
   "source": [
    "import numpy as np\n",
    "import pandas\n",
    "import datetime"
   ]
  },
  {
   "cell_type": "code",
   "execution_count": 6,
   "metadata": {},
   "outputs": [],
   "source": [
    "df = pandas.read_csv('data/Summer_Peak.csv')"
   ]
  },
  {
   "cell_type": "code",
   "execution_count": 7,
   "metadata": {},
   "outputs": [],
   "source": [
    "def projection_accuracy(data):\n",
    "    data.index = pandas.to_datetime(data['Date opportunity start'])\n",
    "    df1 = data['EP ID'].resample('M').count()\n",
    "    data.index = pandas.to_datetime(data['Date realized'])\n",
    "    df2 = data['EP ID'].resample('M').count()\n",
    "    df3 = pandas.concat([df1,df2,round((df2/df1)*100,2)], axis=1)\n",
    "    df3.columns = ['Projection Count', 'Real Count', 'Accuracy of Projection']\n",
    "    print('\\nAverage Accuracy of Projection is ' + str(round(df3['Accuracy of Projection'].mean(),2)) + '%.\\n')\n",
    "    return df3"
   ]
  },
  {
   "cell_type": "markdown",
   "metadata": {},
   "source": [
    "# Generate Output\n",
    "\n",
    "Throughout the generation of the report we will be filtering by each product and then generate the analysis for the whole and per product."
   ]
  },
  {
   "cell_type": "markdown",
   "metadata": {},
   "source": [
    "## Total"
   ]
  },
  {
   "cell_type": "code",
   "execution_count": 17,
   "metadata": {},
   "outputs": [
    {
     "name": "stdout",
     "output_type": "stream",
     "text": [
      "\n",
      "Average Accuracy of Projection is 42.96%.\n",
      "\n"
     ]
    }
   ],
   "source": [
    "projection_accuracy(df).to_csv('output/projection_total.csv')"
   ]
  },
  {
   "cell_type": "markdown",
   "metadata": {},
   "source": [
    "## Global Volunteer"
   ]
  },
  {
   "cell_type": "code",
   "execution_count": 16,
   "metadata": {},
   "outputs": [
    {
     "name": "stdout",
     "output_type": "stream",
     "text": [
      "\n",
      "Average Accuracy of Projection is 46.59%.\n",
      "\n"
     ]
    }
   ],
   "source": [
    "df_gv = df.loc[df['Product'] == 'GV']\n",
    "projection_accuracy(df_gv).to_csv('output/projection_gv.csv')"
   ]
  },
  {
   "cell_type": "markdown",
   "metadata": {},
   "source": [
    "## Global Talent"
   ]
  },
  {
   "cell_type": "code",
   "execution_count": 15,
   "metadata": {},
   "outputs": [
    {
     "name": "stdout",
     "output_type": "stream",
     "text": [
      "\n",
      "Average Accuracy of Projection is 51.14%.\n",
      "\n"
     ]
    }
   ],
   "source": [
    "df_gt = df.loc[df['Product'] == 'GT']\n",
    "projection_accuracy(df_gt).to_csv('output/projection_gt.csv')"
   ]
  },
  {
   "cell_type": "markdown",
   "metadata": {},
   "source": [
    "## Global Entrepreneur"
   ]
  },
  {
   "cell_type": "code",
   "execution_count": 14,
   "metadata": {},
   "outputs": [
    {
     "name": "stdout",
     "output_type": "stream",
     "text": [
      "\n",
      "Average Accuracy of Projection is 25.73%.\n",
      "\n"
     ]
    }
   ],
   "source": [
    "df_ge = df.loc[df['Product'] == 'GE']\n",
    "projection_accuracy(df_ge).to_csv('output/projection_ge.csv')"
   ]
  },
  {
   "cell_type": "markdown",
   "metadata": {},
   "source": [
    "# Support Functions\n",
    "\n",
    "These are additional functions that enable us to keep complying with the DRY Principle and not repeat ourselves every now and then."
   ]
  }
 ],
 "metadata": {
  "kernelspec": {
   "display_name": "Python 3",
   "language": "python",
   "name": "python3"
  },
  "language_info": {
   "codemirror_mode": {
    "name": "ipython",
    "version": 3
   },
   "file_extension": ".py",
   "mimetype": "text/x-python",
   "name": "python",
   "nbconvert_exporter": "python",
   "pygments_lexer": "ipython3",
   "version": "3.7.1"
  }
 },
 "nbformat": 4,
 "nbformat_minor": 2
}
