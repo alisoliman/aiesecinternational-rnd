{
 "cells": [
  {
   "cell_type": "markdown",
   "metadata": {},
   "source": [
    "# Historical Conversions Analysis"
   ]
  },
  {
   "cell_type": "markdown",
   "metadata": {},
   "source": [
    "Import Libraries & Data"
   ]
  },
  {
   "cell_type": "code",
   "execution_count": 1,
   "metadata": {},
   "outputs": [],
   "source": [
    "import numpy as np\n",
    "import pandas\n",
    "import datetime"
   ]
  },
  {
   "cell_type": "code",
   "execution_count": 2,
   "metadata": {},
   "outputs": [],
   "source": [
    "# df = pandas.read_csv('data/Summer_Peak.csv')\n",
    "df_1516 = pandas.read_csv('data/Summer_Peak_15.16.csv')\n",
    "df_1617 = pandas.read_csv('data/Summer_Peak_16.17.csv')\n",
    "df_1718 = pandas.read_csv('data/Summer_Peak_17.18.csv')\n",
    "df_1819 = pandas.read_csv('data/Summer_Peak_18.19.csv')"
   ]
  },
  {
   "cell_type": "code",
   "execution_count": 3,
   "metadata": {},
   "outputs": [],
   "source": [
    "def conversion_rates(data, year=None, month=None, day = None):\n",
    "    df_adjusted_date = data.copy()\n",
    "    df_adjusted_date['Date realized'] = pandas.to_datetime(df_adjusted_date['Date realized'])\n",
    "    if year != None and month != None and day != None:\n",
    "        df_realized = df_adjusted_date.loc[(df_adjusted_date['Date realized'] <= pandas.Timestamp(year=year,month=month,day=day))]\n",
    "    else:\n",
    "        df_realized = df_adjusted_date.loc[(df_adjusted_date['Date realized'] != '')]\n",
    "    df_realized_grouped = df_realized.groupby(by=['Home MC','Host MC']).count()[['EP ID']]\n",
    "\n",
    "    df_approved_grouped = df_adjusted_date.groupby(by=['Home MC','Host MC']).count()[['EP ID']]\n",
    "    df_conversions = round((df_realized_grouped['EP ID']/df_approved_grouped['EP ID'])*100,2).fillna(value=0)\n",
    "    df_combined = pandas.concat([df_approved_grouped,df_realized_grouped,df_conversions],ignore_index=True, axis=1).fillna(value=0)\n",
    "    return df_combined"
   ]
  },
  {
   "cell_type": "markdown",
   "metadata": {},
   "source": [
    "# Generate Output\n",
    "\n",
    "Throughout the generation of the report we will be filtering by each product and then generate the analysis for the whole and per product."
   ]
  },
  {
   "cell_type": "markdown",
   "metadata": {},
   "source": [
    "## Total"
   ]
  },
  {
   "cell_type": "code",
   "execution_count": 41,
   "metadata": {},
   "outputs": [],
   "source": [
    "# result = create_report()\n",
    "create_report().to_csv('Historical-conversion.csv')\n",
    "# compute_growth_equation(result)"
   ]
  },
  {
   "cell_type": "markdown",
   "metadata": {},
   "source": [
    "## Global Volunteer"
   ]
  },
  {
   "cell_type": "code",
   "execution_count": 9,
   "metadata": {},
   "outputs": [],
   "source": [
    "create_report(product='GV',with_numerics=True).to_csv('Historical-conversion-gv.csv')"
   ]
  },
  {
   "cell_type": "markdown",
   "metadata": {},
   "source": [
    "## Global Talent"
   ]
  },
  {
   "cell_type": "code",
   "execution_count": 10,
   "metadata": {},
   "outputs": [],
   "source": [
    "create_report(product='GT',with_numerics=True).to_csv('Historical-conversion-gt.csv')"
   ]
  },
  {
   "cell_type": "markdown",
   "metadata": {},
   "source": [
    "## Global Entrepreneur"
   ]
  },
  {
   "cell_type": "code",
   "execution_count": 11,
   "metadata": {},
   "outputs": [],
   "source": [
    "create_report(product='GE',with_numerics=True).to_csv('Historical-conversion-ge.csv')"
   ]
  },
  {
   "cell_type": "markdown",
   "metadata": {},
   "source": [
    "# Support Functions\n",
    "\n",
    "These are additional functions that enable us to keep complying with the DRY Principle and not repeat ourselves every now and then."
   ]
  },
  {
   "cell_type": "code",
   "execution_count": 8,
   "metadata": {},
   "outputs": [],
   "source": [
    "def create_report(product=None,with_numerics=False):\n",
    "    df_1516_copy = df_1516.copy()\n",
    "    df_1617_copy = df_1617.copy()\n",
    "    df_1718_copy = df_1718.copy()\n",
    "    df_1819_copy = df_1819.copy()\n",
    "    if product: \n",
    "        df_1516_copy = filter_product(df_1516_copy,product)\n",
    "        df_1617_copy = filter_product(df_1617_copy,product)\n",
    "        df_1718_copy = filter_product(df_1718_copy,product)\n",
    "        df_1819_copy = filter_product(df_1819_copy,product)\n",
    "    if with_numerics:\n",
    "        return pandas.concat([conversion_rates(df_1516_copy,2016,8,31),\n",
    "                   conversion_rates(df_1617_copy,2017,8,31),\n",
    "                  conversion_rates(df_1718_copy,2018,8,31),\n",
    "                    conversion_rates(df_1819_copy)[0]\n",
    "                  ],ignore_index=True, axis=1)\n",
    "    else :\n",
    "        return pandas.concat([conversion_rates(df_1516_copy,2016,8,31)[2],\n",
    "                   conversion_rates(df_1617_copy,2017,8,31)[2],\n",
    "                  conversion_rates(df_1718_copy,2018,8,31)[2],\n",
    "                  conversion_rates(df_1819_copy)[0]\n",
    "                  ],ignore_index =True, axis=1)"
   ]
  },
  {
   "cell_type": "code",
   "execution_count": 6,
   "metadata": {},
   "outputs": [],
   "source": [
    "def filter_product(data,product):\n",
    "    return data.loc[data['Product'] == product]"
   ]
  },
  {
   "cell_type": "code",
   "execution_count": 7,
   "metadata": {},
   "outputs": [],
   "source": [
    "def compute_growth_equation(data):\n",
    "    return data.concat([data,data[1]],axis=1)"
   ]
  },
  {
   "cell_type": "code",
   "execution_count": null,
   "metadata": {},
   "outputs": [],
   "source": []
  }
 ],
 "metadata": {
  "kernelspec": {
   "display_name": "Python 3",
   "language": "python",
   "name": "python3"
  },
  "language_info": {
   "codemirror_mode": {
    "name": "ipython",
    "version": 3
   },
   "file_extension": ".py",
   "mimetype": "text/x-python",
   "name": "python",
   "nbconvert_exporter": "python",
   "pygments_lexer": "ipython3",
   "version": "3.7.1"
  }
 },
 "nbformat": 4,
 "nbformat_minor": 2
}
