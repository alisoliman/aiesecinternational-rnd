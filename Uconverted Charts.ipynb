{
 "cells": [
  {
   "cell_type": "markdown",
   "metadata": {},
   "source": [
    "# Unconverted Entities Analysis"
   ]
  },
  {
   "cell_type": "markdown",
   "metadata": {},
   "source": [
    "Import Libraries & Data"
   ]
  },
  {
   "cell_type": "code",
   "execution_count": 1,
   "metadata": {},
   "outputs": [],
   "source": [
    "import numpy as np\n",
    "import pandas\n",
    "import datetime"
   ]
  },
  {
   "cell_type": "code",
   "execution_count": 2,
   "metadata": {},
   "outputs": [],
   "source": [
    "df = pandas.read_csv('data/Latest_Conversion_File_2.csv')"
   ]
  },
  {
   "cell_type": "code",
   "execution_count": 3,
   "metadata": {},
   "outputs": [
    {
     "ename": "SyntaxError",
     "evalue": "invalid syntax (<ipython-input-3-fb76915cc56b>, line 4)",
     "output_type": "error",
     "traceback": [
      "\u001b[0;36m  File \u001b[0;32m\"<ipython-input-3-fb76915cc56b>\"\u001b[0;36m, line \u001b[0;32m4\u001b[0m\n\u001b[0;31m    if full_list =\u001b[0m\n\u001b[0m                 ^\u001b[0m\n\u001b[0;31mSyntaxError\u001b[0m\u001b[0;31m:\u001b[0m invalid syntax\n"
     ]
    }
   ],
   "source": [
    "# Helper function\n",
    "def top_unconverted_entities(data, full_list=None):\n",
    "    status_approved_applications = data.loc[data['Application status'] == 'approved']\n",
    "    if full_list:\n",
    "        grouped_df = status_approved_applications.groupby(by=['Home MC','Host MC']).count()[['EP ID']].sort_values(by='EP ID',ascending=False).nlargest(20,'EP ID')\n",
    "#     grouped_df.to_csv('Top_GE.csv')\n",
    "    print(grouped_df)\n",
    "    "
   ]
  },
  {
   "cell_type": "markdown",
   "metadata": {},
   "source": [
    "# Generate Output\n",
    "\n",
    "Throughout the generation of the report we will be filtering by each product and then generate the analysis for the whole and per product."
   ]
  },
  {
   "cell_type": "markdown",
   "metadata": {},
   "source": [
    "## Total"
   ]
  },
  {
   "cell_type": "code",
   "execution_count": 12,
   "metadata": {},
   "outputs": [
    {
     "name": "stdout",
     "output_type": "stream",
     "text": [
      "We have 26868 application that was approved since 1st of August 2018\n",
      "\n",
      "Out of these 26868 applications 16323 are still in the approved status, meaning they haven't been converted yet. This is 60.75% of our overall approvals that took place since this date.\n",
      "\n",
      "Out of these 26868 applications 10490 are still in the realized status, meaning this is 39.04% that was realized from these approvals.\n",
      "\n",
      "Out of these 26868 applications 1421 are still in the completed status, meaning this is 5.29% that was completed from these approvals.\n",
      "\n"
     ]
    }
   ],
   "source": [
    "top_unconverted_entities(df)"
   ]
  },
  {
   "cell_type": "markdown",
   "metadata": {},
   "source": [
    "## Global Volunteer"
   ]
  },
  {
   "cell_type": "code",
   "execution_count": 13,
   "metadata": {},
   "outputs": [
    {
     "name": "stdout",
     "output_type": "stream",
     "text": [
      "We have 22184 application that was approved since 1st of August 2018\n",
      "\n",
      "Out of these 22184 applications 13947 are still in the approved status, meaning they haven't been converted yet. This is 62.87% of our overall approvals that took place since this date.\n",
      "\n",
      "Out of these 22184 applications 8193 are still in the realized status, meaning this is 36.93% that was realized from these approvals.\n",
      "\n",
      "Out of these 22184 applications 1211 are still in the completed status, meaning this is 5.46% that was completed from these approvals.\n",
      "\n"
     ]
    }
   ],
   "source": [
    "df_gv = df.loc[df['Product'] == 'GV']\n",
    "simple_analysis_generator(df_gv)"
   ]
  },
  {
   "cell_type": "markdown",
   "metadata": {},
   "source": [
    "## Global Talent"
   ]
  },
  {
   "cell_type": "code",
   "execution_count": 14,
   "metadata": {},
   "outputs": [
    {
     "name": "stdout",
     "output_type": "stream",
     "text": [
      "We have 2247 application that was approved since 1st of August 2018\n",
      "\n",
      "Out of these 2247 applications 963 are still in the approved status, meaning they haven't been converted yet. This is 42.86% of our overall approvals that took place since this date.\n",
      "\n",
      "Out of these 2247 applications 1277 are still in the realized status, meaning this is 56.83% that was realized from these approvals.\n",
      "\n",
      "Out of these 2247 applications 34 are still in the completed status, meaning this is 1.51% that was completed from these approvals.\n",
      "\n"
     ]
    }
   ],
   "source": [
    "df_gt = df.loc[df['Product'] == 'GT']\n",
    "simple_analysis_generator(df_gt)"
   ]
  },
  {
   "cell_type": "markdown",
   "metadata": {},
   "source": [
    "## Global Entrepreneur"
   ]
  },
  {
   "cell_type": "code",
   "execution_count": 15,
   "metadata": {},
   "outputs": [
    {
     "name": "stdout",
     "output_type": "stream",
     "text": [
      "We have 2437 application that was approved since 1st of August 2018\n",
      "\n",
      "Out of these 2437 applications 1413 are still in the approved status, meaning they haven't been converted yet. This is 57.98% of our overall approvals that took place since this date.\n",
      "\n",
      "Out of these 2437 applications 1020 are still in the realized status, meaning this is 41.85% that was realized from these approvals.\n",
      "\n",
      "Out of these 2437 applications 176 are still in the completed status, meaning this is 7.22% that was completed from these approvals.\n",
      "\n"
     ]
    }
   ],
   "source": [
    "df_ge = df.loc[df['Product'] == 'GE']\n",
    "simple_analysis_generator(df_ge)"
   ]
  },
  {
   "cell_type": "markdown",
   "metadata": {},
   "source": [
    "# Support Functions\n",
    "\n",
    "These are additional functions that enable us to keep complying with the DRY Principle and not repeat ourselves every now and then."
   ]
  },
  {
   "cell_type": "code",
   "execution_count": 10,
   "metadata": {},
   "outputs": [],
   "source": [
    "def print_simple_analysis(total_applications,count_status_approved_applications,count_status_realized_applications,count_status_completed_applications,percentage_approved_not_converted,percentage_realized_converted,percentage_completed_converted):\n",
    "    print('We have ' + str(total_applications) + ' application that was approved since 1st of August 2018\\n')\n",
    "    print('Out of these ' + str(total_applications) + ' applications ' + str(count_status_approved_applications) + ' are still in the approved status, meaning they haven\\'t been converted yet. This is ' + str(round(percentage_approved_not_converted,2)) + '% of our overall approvals that took place since this date.\\n')\n",
    "    print('Out of these ' + str(total_applications) + ' applications ' + str(count_status_realized_applications+count_status_completed_applications) + ' are still in the realized status, meaning this is ' + str(round(percentage_realized_converted,2)) + '% that was realized from these approvals.\\n')\n",
    "    print('Out of these ' + str(total_applications) + ' applications ' + str(count_status_completed_applications) + ' are still in the completed status, meaning this is ' + str(round(percentage_completed_converted,2)) + '% that was completed from these approvals.\\n')"
   ]
  },
  {
   "cell_type": "code",
   "execution_count": 11,
   "metadata": {},
   "outputs": [],
   "source": [
    "def cluster_data(data):\n",
    "    return data.loc[data['Application status'] == 'approved'],data.loc[data['Application status'] == 'realized'],data.loc[data['Application status'] == 'complete']"
   ]
  }
 ],
 "metadata": {
  "kernelspec": {
   "display_name": "Python 3",
   "language": "python",
   "name": "python3"
  },
  "language_info": {
   "codemirror_mode": {
    "name": "ipython",
    "version": 3
   },
   "file_extension": ".py",
   "mimetype": "text/x-python",
   "name": "python",
   "nbconvert_exporter": "python",
   "pygments_lexer": "ipython3",
   "version": "3.7.1"
  }
 },
 "nbformat": 4,
 "nbformat_minor": 2
}
